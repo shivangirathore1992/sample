{
 "cells": [
  {
   "cell_type": "markdown",
   "id": "e1592fb1",
   "metadata": {},
   "source": [
    "# Python List\n",
    "\n",
    "In Python, the sequence of various data types is stored in a list. A list is a collection of different kinds of values or items. Since Python lists are mutable, we can change their elements after forming. The comma (,) and the square brackets [enclose the List's items] serve as separators.\n",
    "\n",
    "Although six Python data types can hold sequences, the List is the most common and reliable form. A list, a type of sequence data, is used to store the collection of data. Tuples and Strings are two similar data formats for sequences.\n",
    "\n",
    "Lists written in Python are identical to dynamically scaled arrays defined in other languages, such as Array List in Java and Vector in C++. A list is a collection of items separated by commas and denoted by the symbol [].\n",
    "\n",
    "__List Declaration__\n",
    "\n",
    "Code\n"
   ]
  },
  {
   "cell_type": "code",
   "execution_count": 2,
   "id": "1776ef11",
   "metadata": {},
   "outputs": [
    {
     "name": "stdout",
     "output_type": "stream",
     "text": [
      "[1, 2, 'Python', 'Program', 15.9]\n",
      "['Amy', 'Ryan', 'Henry', 'Emma']\n",
      "<class 'list'>\n",
      "<class 'list'>\n"
     ]
    }
   ],
   "source": [
    "# a simple list   \n",
    "list1 = [1, 2, \"Python\", \"Program\", 15.9]      \n",
    "list2 = [\"Amy\", \"Ryan\", \"Henry\", \"Emma\"]   \n",
    "  \n",
    "# printing the list  \n",
    "print(list1)  \n",
    "print(list2)  \n",
    "  \n",
    "# printing the type of list  \n",
    "print(type(list1))  \n",
    "print(type(list2))  "
   ]
  },
  {
   "cell_type": "markdown",
   "id": "8557a9dc",
   "metadata": {},
   "source": [
    "__Characteristics of Lists__\n",
    "\n",
    "The characteristics of the List are as follows:\n",
    "\n",
    "The lists are in order.\n",
    "\n",
    "The list element can be accessed via the index.\n",
    "\n",
    "The mutable type of List is\n",
    "\n",
    "The rundowns are changeable sorts.\n",
    "\n",
    "The number of various elements can be stored in a list.\n",
    "\n",
    "__Ordered List Checking__\n",
    "\n",
    "Code"
   ]
  },
  {
   "cell_type": "code",
   "execution_count": 3,
   "id": "9f32a9e9",
   "metadata": {},
   "outputs": [
    {
     "name": "stdout",
     "output_type": "stream",
     "text": [
      "[1, 2, 'Ram', 3.5, 'Rahul', 5, 6]\n",
      "[1, 2, 5, 'Ram', 3.5, 'Rahul', 6]\n"
     ]
    },
    {
     "data": {
      "text/plain": [
       "False"
      ]
     },
     "execution_count": 3,
     "metadata": {},
     "output_type": "execute_result"
    }
   ],
   "source": [
    "# example  \n",
    "a = [ 1, 2, \"Ram\", 3.50, \"Rahul\", 5, 6 ]    \n",
    "b = [ 1, 2, 5, \"Ram\", 3.50, \"Rahul\", 6 ] \n",
    "print(a)\n",
    "print(b)\n",
    "a == b    "
   ]
  },
  {
   "cell_type": "markdown",
   "id": "59d3e41d",
   "metadata": {},
   "source": [
    "The indistinguishable components were remembered for the two records; however, the subsequent rundown changed the file position of the fifth component, which is against the rundowns' planned request. False is returned when the two lists are compared.\n",
    "\n",
    "Code"
   ]
  },
  {
   "cell_type": "code",
   "execution_count": 4,
   "id": "8cf3b0a1",
   "metadata": {},
   "outputs": [
    {
     "data": {
      "text/plain": [
       "True"
      ]
     },
     "execution_count": 4,
     "metadata": {},
     "output_type": "execute_result"
    }
   ],
   "source": [
    "# example  \n",
    "a = [ 1, 2, \"Ram\", 3.50, \"Rahul\", 5, 6]    \n",
    "b = [ 1, 2, \"Ram\", 3.50, \"Rahul\", 5, 6]    \n",
    "a == b    "
   ]
  },
  {
   "cell_type": "markdown",
   "id": "8632aaf3",
   "metadata": {},
   "source": [
    "Records forever protect the component's structure. Because of this, it is an arranged collection of things.\n",
    "\n",
    "Let's take a closer look at the list example.\n",
    "\n",
    "Code"
   ]
  },
  {
   "cell_type": "code",
   "execution_count": 5,
   "id": "5434ea53",
   "metadata": {},
   "outputs": [
    {
     "name": "stdout",
     "output_type": "stream",
     "text": [
      "printing employee data ...\n",
      " Name : John, ID: 102, Country: USA\n",
      "printing departments ...\n",
      "Department 1:\n",
      "Name: CS, ID: 11\n",
      " Department 2:\n",
      " Name: IT, ID: 11\n",
      "HOD Details ....\n",
      "CS HOD Name: Mr. Holding, Id: 10\n",
      "IT HOD Name: Mr. Bewon, Id: 11\n",
      "<class 'list'> <class 'list'> <class 'list'> <class 'list'> <class 'list'>\n"
     ]
    }
   ],
   "source": [
    "# list example in detail  \n",
    "emp = [ \"John\", 102, \"USA\"]       \n",
    "Dep1 = [ \"CS\",10]    \n",
    "Dep2 = [ \"IT\",11]      \n",
    "HOD_CS = [ 10,\"Mr. Holding\"]      \n",
    "HOD_IT = [11, \"Mr. Bewon\"]      \n",
    "print(\"printing employee data ...\")      \n",
    "print(\" Name : %s, ID: %d, Country: %s\" %(emp[0], emp[1], emp[2]))      \n",
    "print(\"printing departments ...\")     \n",
    "print(\"Department 1:\\nName: %s, ID: %d\\n Department 2:\\n Name: %s, ID: %s\"%( Dep1[0], Dep2[1], Dep2[0], Dep2[1]))      \n",
    "print(\"HOD Details ....\")      \n",
    "print(\"CS HOD Name: %s, Id: %d\" %(HOD_CS[1], HOD_CS[0]))      \n",
    "print(\"IT HOD Name: %s, Id: %d\" %(HOD_IT[1], HOD_IT[0]))      \n",
    "print(type(emp), type(Dep1), type(Dep2), type(HOD_CS), type(HOD_IT)) "
   ]
  },
  {
   "attachments": {
    "image.png": {
     "image/png": "[encoded data removed]"
    }
   },
   "cell_type": "markdown",
   "id": "cd898fab",
   "metadata": {},
   "source": [
    "In the preceding illustration, we printed the employee and department-specific details from lists that we had created. To better comprehend the List's concept, look at the code above.\n",
    "\n",
    "__List Indexing and Splitting__\n",
    "\n",
    "The indexing procedure is carried out similarly to string processing. The slice operator [] can be used to get to the List's components.\n",
    "\n",
    "The index ranges from 0 to length -1. The 0th index is where the List's first element is stored; the 1st index is where the second element is stored, and so on.\n",
    "\n",
    "![image.png](attachment:image.png)\n",
    "\n",
    "\n",
    "We can get the sub-list of the list using the following syntax.\n",
    "\n",
    "list_varible(start:stop:step)    \n",
    "\n",
    "The beginning indicates the beginning record position of the rundown.\n",
    "\n",
    "The stop signifies the last record position of the rundown.\n",
    "\n",
    "Within a start, the step is used to skip the nth element: stop.\n",
    "\n",
    "The start parameter is the initial index, the step is the ending index, and the value of the end parameter is the number of elements that are \"stepped\" through. The default value for the step is one without a specific value. Inside the resultant Sub List, the same with record start would be available, yet the one with the file finish will not. The first element in a list appears to have an index of zero.\n",
    "\n",
    "Consider the following example:\n",
    "\n",
    "Code"
   ]
  },
  {
   "cell_type": "code",
   "execution_count": 6,
   "id": "b4e2c24a",
   "metadata": {},
   "outputs": [
    {
     "name": "stdout",
     "output_type": "stream",
     "text": [
      "1\n",
      "2\n",
      "3\n",
      "4\n",
      "[1, 2, 3, 4, 5, 6]\n",
      "[1, 2, 3, 4, 5, 6, 7]\n",
      "[3, 4, 5]\n",
      "[2, 4, 6]\n"
     ]
    }
   ],
   "source": [
    "list = [1,2,3,4,5,6,7]    \n",
    "print(list[0])    \n",
    "print(list[1])    \n",
    "print(list[2])    \n",
    "print(list[3])    \n",
    "# Slicing the elements    \n",
    "print(list[0:6])    \n",
    "# By default, the index value is 0 so its starts from the 0th element and go for index -1.    \n",
    "print(list[:])    \n",
    "print(list[2:5])    \n",
    "print(list[1:6:2])    "
   ]
  },
  {
   "attachments": {
    "image.png": {
     "image/png": "[encoded data removed]"
    }
   },
   "cell_type": "markdown",
   "id": "3cd2293d",
   "metadata": {},
   "source": [
    "In contrast to other programming languages, Python lets you use negative indexing as well. The negative indices are counted from the right. The index -1 represents the final element on the List's right side, followed by the index -2 for the next member on the left, and so on, until the last element on the left is reached.\n",
    "\n",
    "![image.png](attachment:image.png)\n",
    "\n",
    "Let's have a look at the following example where we will use negative indexing to access the elements of the list.\n",
    "\n",
    "Code"
   ]
  },
  {
   "cell_type": "code",
   "execution_count": 7,
   "id": "9c08757c",
   "metadata": {},
   "outputs": [
    {
     "name": "stdout",
     "output_type": "stream",
     "text": [
      "5\n",
      "[3, 4, 5]\n",
      "[1, 2, 3, 4]\n",
      "[3, 4]\n"
     ]
    }
   ],
   "source": [
    "# negative indexing example  \n",
    "list = [1,2,3,4,5]    \n",
    "print(list[-1])    \n",
    "print(list[-3:])    \n",
    "print(list[:-1])    \n",
    "print(list[-3:-1])    "
   ]
  },
  {
   "cell_type": "markdown",
   "id": "5ff41dfc",
   "metadata": {},
   "source": [
    "Negative indexing allows us to obtain an element, as previously mentioned. The rightmost item in the List was returned by the first print statement in the code above. The second print statement returned the sub-list, and so on.\n",
    "\n",
    "__Updating List Values__\n",
    "\n",
    "Due to their mutability and the slice and assignment operator's ability to update their values, lists are Python's most adaptable data structure. Python's append() and insert() methods can also add values to a list.\n",
    "\n",
    "Consider the following example to update the values inside the List.\n",
    "\n",
    "Code"
   ]
  },
  {
   "cell_type": "code",
   "execution_count": 8,
   "id": "a777a820",
   "metadata": {},
   "outputs": [
    {
     "name": "stdout",
     "output_type": "stream",
     "text": [
      "[1, 2, 3, 4, 5, 6]\n",
      "[1, 2, 10, 4, 5, 6]\n",
      "[1, 89, 78, 4, 5, 6]\n",
      "[1, 89, 78, 4, 5, 25]\n"
     ]
    }
   ],
   "source": [
    "# updating list values  \n",
    "list = [1, 2, 3, 4, 5, 6]       \n",
    "print(list)       \n",
    "# It will assign value to the value to the second index     \n",
    "list[2] = 10     \n",
    "print(list)      \n",
    "# Adding multiple-element     \n",
    "list[1:3] = [89, 78]       \n",
    "print(list)     \n",
    "# It will add value at the end of the list    \n",
    "list[-1] = 25    \n",
    "print(list)    "
   ]
  },
  {
   "cell_type": "markdown",
   "id": "ea627c7b",
   "metadata": {},
   "source": [
    "The list elements can also be deleted by using the del keyword. Python also provides us the remove() method if we do not know which element is to be deleted from the list.\n",
    "\n",
    "Consider the following example to delete the list elements.\n",
    "\n",
    "Code"
   ]
  },
  {
   "cell_type": "code",
   "execution_count": 6,
   "id": "3b349e52",
   "metadata": {},
   "outputs": [
    {
     "name": "stdout",
     "output_type": "stream",
     "text": [
      "[1, 2, 3, 4, 5, 6]\n",
      "[1, 2, 3, 5, 6]\n",
      "[1, 2, 3, 5]\n"
     ]
    }
   ],
   "source": [
    "list = [1, 2, 3, 4, 5, 6]       \n",
    "print(list)       \n",
    "   \n",
    "list.pop(3)     \n",
    "print(list)      \n",
    "     \n",
    "list.remove(6)  \n",
    "print(list)     \n",
    " "
   ]
  },
  {
   "cell_type": "markdown",
   "id": "400fa7ef",
   "metadata": {},
   "source": [
    "__Python List Operations__\n",
    "\n",
    "The concatenation (+) and repetition (*) operators work in the same way as they were working with the strings. The different operations of list are\n",
    "\n",
    "Repetition\n",
    "\n",
    "Concatenation\n",
    "\n",
    "Length\n",
    "\n",
    "Iteration\n",
    "\n",
    "Membership\n",
    "\n",
    "Let's see how the list responds to various operators.\n",
    "\n",
    "__1. Repetition__\n",
    "\n",
    "The redundancy administrator empowers the rundown components to be rehashed on different occasions.\n",
    "\n",
    "Code"
   ]
  },
  {
   "cell_type": "code",
   "execution_count": 9,
   "id": "20196aa4",
   "metadata": {},
   "outputs": [
    {
     "name": "stdout",
     "output_type": "stream",
     "text": [
      "[12, 14, 16, 18, 20, 12, 14, 16, 18, 20]\n"
     ]
    }
   ],
   "source": [
    "# repetition of list  \n",
    "# declaring the list  \n",
    "list1 = [12, 14, 16, 18, 20]  \n",
    "# repetition operator *  \n",
    "l = list1 * 2\n",
    "print(l)  "
   ]
  },
  {
   "cell_type": "markdown",
   "id": "9194dc89",
   "metadata": {},
   "source": [
    "__2. Concatenation__\n",
    "\n",
    "It concatenates the list mentioned on either side of the operator.\n",
    "\n",
    "Code"
   ]
  },
  {
   "cell_type": "code",
   "execution_count": 11,
   "id": "63958b76",
   "metadata": {},
   "outputs": [
    {
     "name": "stdout",
     "output_type": "stream",
     "text": [
      "[12, 14, 16, 18, 20, 9, 10, 32, 54, 86]\n"
     ]
    }
   ],
   "source": [
    "# concatenation of two lists  \n",
    "# declaring the lists  \n",
    "list1 = [12, 14, 16, 18, 20]  \n",
    "list2 = [9, 10, 32, 54, 86]  \n",
    "# concatenation operator +  \n",
    "l = list1 + list2  \n",
    "print(l)  "
   ]
  },
  {
   "cell_type": "markdown",
   "id": "59cf379d",
   "metadata": {},
   "source": [
    "__3. Length__\n",
    "\n",
    "It is used to get the length of the list\n",
    "\n",
    "Code"
   ]
  },
  {
   "cell_type": "code",
   "execution_count": 10,
   "id": "e84571f9",
   "metadata": {},
   "outputs": [
    {
     "data": {
      "text/plain": [
       "9"
      ]
     },
     "execution_count": 10,
     "metadata": {},
     "output_type": "execute_result"
    }
   ],
   "source": [
    "# size of the list  \n",
    "# declaring the list  \n",
    "list1 = [12, 14, 16, 18, 20, 23, 27, 39, 40]  \n",
    "# finding length of the list  \n",
    "len(list1)  "
   ]
  },
  {
   "cell_type": "markdown",
   "id": "a89df8af",
   "metadata": {},
   "source": [
    "__4. Iteration__\n",
    "\n",
    "The for loop is used to iterate over the list elements.\n",
    "\n",
    "Code"
   ]
  },
  {
   "cell_type": "code",
   "execution_count": 13,
   "id": "f575ea54",
   "metadata": {},
   "outputs": [
    {
     "name": "stdout",
     "output_type": "stream",
     "text": [
      "12\n",
      "14\n",
      "16\n",
      "39\n",
      "40\n"
     ]
    }
   ],
   "source": [
    "# iteration of the list  \n",
    "# declaring the list  \n",
    "list1 = [12, 14, 16, 39, 40]  \n",
    "# iterating  \n",
    "for i in list1:   \n",
    "    print(i)  "
   ]
  },
  {
   "cell_type": "markdown",
   "id": "f18a7824",
   "metadata": {},
   "source": [
    "__5. Membership__\n",
    "\n",
    "It returns true if a particular item exists in a particular list otherwise false.\n",
    "\n",
    "Code"
   ]
  },
  {
   "cell_type": "code",
   "execution_count": 14,
   "id": "be084246",
   "metadata": {},
   "outputs": [
    {
     "name": "stdout",
     "output_type": "stream",
     "text": [
      "False\n",
      "False\n",
      "False\n",
      "True\n",
      "True\n",
      "True\n"
     ]
    }
   ],
   "source": [
    "# membership of the list  \n",
    "# declaring the list  \n",
    "list1 = [100, 200, 300, 400, 500]  \n",
    "# true will be printed if value exists  \n",
    "# and false if not  \n",
    "  \n",
    "print(600 in list1)  \n",
    "print(700 in list1)  \n",
    "print(1040 in list1)  \n",
    "  \n",
    "print(300 in list1)  \n",
    "print(100 in list1)  \n",
    "print(500 in list1)  "
   ]
  },
  {
   "cell_type": "markdown",
   "id": "6262f10e",
   "metadata": {},
   "source": [
    "__Iterating a List__\n",
    "\n",
    "A list can be iterated by using a for - in loop. A simple list containing four strings, which can be iterated as follows.\n",
    "\n",
    "Code"
   ]
  },
  {
   "cell_type": "code",
   "execution_count": 15,
   "id": "d58fe416",
   "metadata": {},
   "outputs": [
    {
     "name": "stdout",
     "output_type": "stream",
     "text": [
      "John\n",
      "David\n",
      "James\n",
      "Jonathan\n"
     ]
    }
   ],
   "source": [
    "# iterating a list  \n",
    "list = [\"John\", \"David\", \"James\", \"Jonathan\"]      \n",
    "for i in list:     \n",
    "    # The i variable will iterate over the elements of the List and contains each element in each iteration.       \n",
    "    print(i)  "
   ]
  },
  {
   "cell_type": "markdown",
   "id": "6a2ba125",
   "metadata": {},
   "source": [
    "__Adding Elements to the List__\n",
    "\n",
    "The append() function in Python can add a new item to the List. In any case, the annex() capability can enhance the finish of the rundown.\n",
    "\n",
    "Consider the accompanying model, where we take the components of the rundown from the client and print the rundown on the control center.\n",
    "\n",
    "Code"
   ]
  },
  {
   "cell_type": "code",
   "execution_count": null,
   "id": "ae2b8edd",
   "metadata": {},
   "outputs": [],
   "source": [
    "#Declaring the empty list    \n",
    "l =[]    \n",
    "#Number of elements will be entered by the user      \n",
    "n = int(input(\"Enter the number of elements in the list:\"))    \n",
    "# for loop to take the input    \n",
    "for i in range(0,n):       \n",
    "    # The input is taken from the user and added to the list as the item    \n",
    "    l.append(input(\"Enter the item:\"))       \n",
    "print(\"printing the list items..\")     \n",
    "# traversal loop to print the list items      \n",
    "for i in l:     \n",
    "    print(i, end = \"  \")   "
   ]
  },
  {
   "cell_type": "markdown",
   "id": "1d413a10",
   "metadata": {},
   "source": [
    "__Removing Elements from the List__\n",
    "\n",
    "The remove() function in Python can remove an element from the List. To comprehend this idea, look at the example that follows.\n",
    "\n",
    "Example -\n",
    "\n",
    "Code"
   ]
  },
  {
   "cell_type": "code",
   "execution_count": null,
   "id": "0f663511",
   "metadata": {},
   "outputs": [],
   "source": [
    "list = [0,1,2,3,4]       \n",
    "    \n",
    "list.remove(2)      \n",
    "\n",
    "print(list)"
   ]
  },
  {
   "cell_type": "markdown",
   "id": "e23d6d25",
   "metadata": {},
   "source": [
    "__Python List Built-in Functions__\n",
    "\n",
    "Python provides the following built-in functions, which can be used with the lists.\n",
    "\n",
    "len()\n",
    "\n",
    "max()\n",
    "\n",
    "min()\n",
    "\n",
    "len( )\n",
    "\n",
    "It is used to calculate the length of the list.\n",
    "\n",
    "Code"
   ]
  },
  {
   "cell_type": "code",
   "execution_count": 18,
   "id": "c5ed95f6",
   "metadata": {},
   "outputs": [
    {
     "data": {
      "text/plain": [
       "6"
      ]
     },
     "execution_count": 18,
     "metadata": {},
     "output_type": "execute_result"
    }
   ],
   "source": [
    "# size of the list  \n",
    "# declaring the list  \n",
    "list1 = [12, 16, 18, 20, 39, 40]  \n",
    "# finding length of the list  \n",
    "len(list1)  "
   ]
  },
  {
   "cell_type": "markdown",
   "id": "a9582b8d",
   "metadata": {},
   "source": [
    "__Max( )__\n",
    "\n",
    "It returns the maximum element of the list\n",
    "\n",
    "Code"
   ]
  },
  {
   "cell_type": "code",
   "execution_count": 19,
   "id": "75086b70",
   "metadata": {},
   "outputs": [
    {
     "name": "stdout",
     "output_type": "stream",
     "text": [
      "782\n"
     ]
    }
   ],
   "source": [
    "# maximum of the list  \n",
    "list1 = [103, 675, 321, 782, 200]  \n",
    "# large element in the list  \n",
    "print(max(list1)) "
   ]
  },
  {
   "cell_type": "markdown",
   "id": "ccedd595",
   "metadata": {},
   "source": [
    "__Min( )__\n",
    "\n",
    "It returns the minimum element of the list\n",
    "\n",
    "Code"
   ]
  },
  {
   "cell_type": "code",
   "execution_count": 20,
   "id": "924c55f5",
   "metadata": {},
   "outputs": [
    {
     "name": "stdout",
     "output_type": "stream",
     "text": [
      "103\n"
     ]
    }
   ],
   "source": [
    "# minimum of the list  \n",
    "list1 = [103, 675, 321, 782, 200]  \n",
    "# smallest element in the list  \n",
    "print(min(list1))  "
   ]
  },
  {
   "cell_type": "markdown",
   "id": "37429cdd",
   "metadata": {},
   "source": [
    "Let's have a look at the few list examples.\n",
    "\n",
    "Example: 1- Create a program to eliminate the List's duplicate items.\n",
    "\n",
    "Code"
   ]
  },
  {
   "cell_type": "code",
   "execution_count": 21,
   "id": "ad99c208",
   "metadata": {},
   "outputs": [
    {
     "name": "stdout",
     "output_type": "stream",
     "text": [
      "[1, 2, 3, 55, 98, 65, 13, 29]\n"
     ]
    }
   ],
   "source": [
    "list1 = [1,2,2,3,55,98,65,65,13,29]    \n",
    "# Declare an empty list that will store unique values    \n",
    "list2 = []    \n",
    "for i in list1:    \n",
    "    if i not in list2:    \n",
    "        list2.append(i)    \n",
    "print(list2)    "
   ]
  },
  {
   "cell_type": "markdown",
   "id": "72c5402a",
   "metadata": {},
   "source": [
    "Example:2- Compose a program to track down the amount of the component in the rundown.\n",
    "\n",
    "Code"
   ]
  },
  {
   "cell_type": "code",
   "execution_count": 22,
   "id": "754b7b9e",
   "metadata": {},
   "outputs": [
    {
     "name": "stdout",
     "output_type": "stream",
     "text": [
      "The sum is: 67\n"
     ]
    }
   ],
   "source": [
    "list1 = [3,4,5,9,10,12,24]    \n",
    "sum = 0    \n",
    "for i in list1:    \n",
    "    sum = sum+i        \n",
    "print(\"The sum is:\",sum)  "
   ]
  },
  {
   "cell_type": "markdown",
   "id": "d4306b30",
   "metadata": {},
   "source": [
    "Example: 3- Compose the program to find the rundowns comprise of somewhere around one normal component.\n",
    "\n",
    "Code"
   ]
  },
  {
   "cell_type": "code",
   "execution_count": 23,
   "id": "35a3a0ca",
   "metadata": {},
   "outputs": [
    {
     "name": "stdout",
     "output_type": "stream",
     "text": [
      "The common element is: 2\n"
     ]
    }
   ],
   "source": [
    "list1 = [1,2,3,4,5,6]    \n",
    "list2 = [7,8,9,2,10]    \n",
    "for x in list1:    \n",
    "    for y in list2:    \n",
    "        if x == y:    \n",
    "            print(\"The common element is:\",x)   "
   ]
  },
  {
   "cell_type": "code",
   "execution_count": null,
   "id": "b8ee8127",
   "metadata": {},
   "outputs": [],
   "source": []
  }
 ],
 "metadata": {
  "kernelspec": {
   "display_name": "Python 3 (ipykernel)",
   "language": "python",
   "name": "python3"
  },
  "language_info": {
   "codemirror_mode": {
    "name": "ipython",
    "version": 3
   },
   "file_extension": ".py",
   "mimetype": "text/x-python",
   "name": "python",
   "nbconvert_exporter": "python",
   "pygments_lexer": "ipython3",
   "version": "3.11.5"
  }
 },
 "nbformat": 4,
 "nbformat_minor": 5
}
